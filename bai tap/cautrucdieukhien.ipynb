{
 "cells": [
  {
   "cell_type": "code",
   "execution_count": 1,
   "id": "9d185024-b9d2-4523-bd45-b8526bb050b1",
   "metadata": {},
   "outputs": [
    {
     "name": "stdout",
     "output_type": "stream",
     "text": [
      "sau khi hoan doi a = 2 , b = 1\n"
     ]
    }
   ],
   "source": [
    "#W3A2\n",
    "a = 1\n",
    "b = 2\n",
    "a = a ^ b\n",
    "b = a ^ b\n",
    "a = a ^ b\n",
    "print(\"sau khi hoan doi a =\", a, \", b =\", b)"
   ]
  },
  {
   "cell_type": "code",
   "execution_count": 4,
   "id": "c393a86e-f5cd-4351-ab19-49b380af1b58",
   "metadata": {},
   "outputs": [
    {
     "name": "stdout",
     "output_type": "stream",
     "text": [
      "0 -> False\n",
      "2 -> True\n",
      "4 -> True\n",
      "6 -> False\n",
      "8 -> True\n"
     ]
    }
   ],
   "source": [
    "#W3A3\n",
    "def la_luy_thua_cua_2(n):\n",
    "    return n > 0 and (n & (n - 1)) == 0\n",
    "for num in [0, 2, 4, 6, 8]:\n",
    "    print(num, \"->\", la_luy_thua_cua_2(num))"
   ]
  },
  {
   "cell_type": "code",
   "execution_count": 2,
   "id": "df4635f0-b328-4c69-a520-60810fc58ea2",
   "metadata": {},
   "outputs": [
    {
     "name": "stdin",
     "output_type": "stream",
     "text": [
      "Nhập số m:  5\n",
      "Nhập số n:  3\n"
     ]
    },
    {
     "name": "stdout",
     "output_type": "stream",
     "text": [
      "Làm tròn xuống = 1\n"
     ]
    }
   ],
   "source": [
    "#W3A4\n",
    "import math\n",
    "m = float(input(\"Nhập số m: \"))\n",
    "n = float(input(\"Nhập số n: \"))\n",
    "ket_qua = m / n\n",
    "lam_tron_xuong = math.floor(ket_qua)\n",
    "print(\"Làm tròn xuống =\", lam_tron_xuong)\n"
   ]
  },
  {
   "cell_type": "code",
   "execution_count": 7,
   "id": "db7d40f5-ea33-4f96-a180-142dcd14eec0",
   "metadata": {},
   "outputs": [
    {
     "name": "stdin",
     "output_type": "stream",
     "text": [
      "Nhập số m:  10\n",
      "Nhập số n:  3\n"
     ]
    },
    {
     "name": "stdout",
     "output_type": "stream",
     "text": [
      "Làm tròn lên = 4\n"
     ]
    }
   ],
   "source": [
    "#W3A5\n",
    "import math\n",
    "m = float(input(\"Nhập số m: \"))\n",
    "n = float(input(\"Nhập số n: \"))\n",
    "ket_qua = m / n\n",
    "lam_tron_len = math.ceil(ket_qua)\n",
    "print(\"Làm tròn lên =\", lam_tron_len)\n"
   ]
  },
  {
   "cell_type": "code",
   "execution_count": 8,
   "id": "e405f3bd-3126-4a28-8539-fb515953ff20",
   "metadata": {},
   "outputs": [
    {
     "name": "stdin",
     "output_type": "stream",
     "text": [
      "Nhập số nguyên dương x:  4\n"
     ]
    },
    {
     "name": "stdout",
     "output_type": "stream",
     "text": [
      "Even\n"
     ]
    }
   ],
   "source": [
    "#W3A6\n",
    "x = int(input(\"Nhập số nguyên dương x: \"))\n",
    "if x % 2 == 0:\n",
    "    print(\"Even\")\n",
    "else:\n",
    "    print(\"Odd\")"
   ]
  },
  {
   "cell_type": "code",
   "execution_count": 11,
   "id": "8057d753-1d33-45ce-b5e7-15ea7669d1ea",
   "metadata": {},
   "outputs": [
    {
     "name": "stdin",
     "output_type": "stream",
     "text": [
      "Nhập số a:  1\n",
      "Nhập số b:  -2\n"
     ]
    },
    {
     "name": "stdout",
     "output_type": "stream",
     "text": [
      "No\n"
     ]
    }
   ],
   "source": [
    "#W3A7\n",
    "a = int(input(\"Nhập số a: \"))\n",
    "b = int(input(\"Nhập số b: \"))\n",
    "if a < 0 and b < 0:\n",
    "        print(\"Yes\")\n",
    "else:\n",
    "        print(\"No\")"
   ]
  },
  {
   "cell_type": "code",
   "execution_count": 12,
   "id": "7d18743c-c620-4f3c-8b11-36967c0cfbee",
   "metadata": {},
   "outputs": [
    {
     "name": "stdout",
     "output_type": "stream",
     "text": [
      "False\n"
     ]
    }
   ],
   "source": [
    "#W3A8\n",
    "a = \"aiiaoaoa\"\n",
    "b = \"bdododooosos\"\n",
    "if len(a) > len(b):\n",
    "    print(\"True\")\n",
    "else:\n",
    "    print(\"False\")"
   ]
  },
  {
   "cell_type": "code",
   "execution_count": 17,
   "id": "14469c6e-3ff1-4068-8ccc-2a9363d044e6",
   "metadata": {},
   "outputs": [
    {
     "name": "stdin",
     "output_type": "stream",
     "text": [
      "Nhap so a:  3\n",
      "Nhap so b:  4\n",
      "Nhap so c:  5\n"
     ]
    },
    {
     "name": "stdout",
     "output_type": "stream",
     "text": [
      "Yes\n"
     ]
    }
   ],
   "source": [
    "#W3A9\n",
    "a = int(input(\"Nhap so a: \"))\n",
    "b = int(input(\"Nhap so b: \"))\n",
    "c = int(input(\"Nhap so c: \"))\n",
    "if a + b > c:\n",
    "    print(\"Yes\")\n",
    "else:\n",
    "    print(\"No\")"
   ]
  },
  {
   "cell_type": "code",
   "execution_count": 18,
   "id": "063d6a57-da45-428c-9a9f-587a5419389b",
   "metadata": {},
   "outputs": [
    {
     "name": "stdin",
     "output_type": "stream",
     "text": [
      "Nhập số a:  1\n",
      "Nhập số b:  2\n",
      "Nhập số c:  3\n",
      "Nhập số d:  4\n"
     ]
    },
    {
     "name": "stdout",
     "output_type": "stream",
     "text": [
      "Số lớn nhất là: 4\n"
     ]
    }
   ],
   "source": [
    "#W3A10\n",
    "a = int(input(\"Nhập số a: \"))\n",
    "b = int(input(\"Nhập số b: \"))\n",
    "c = int(input(\"Nhập số c: \"))\n",
    "d = int(input(\"Nhập số d: \"))\n",
    "max_num = max(a, b, c, d)\n",
    "print(\"Số lớn nhất là:\", max_num)"
   ]
  },
  {
   "cell_type": "code",
   "execution_count": 19,
   "id": "e37d2900-4e94-4ae9-8c16-97e02524956c",
   "metadata": {},
   "outputs": [
    {
     "name": "stdin",
     "output_type": "stream",
     "text": [
      "Nhập cạnh a:  3\n",
      "Nhập cạnh b:  4\n",
      "Nhập cạnh c:  5\n"
     ]
    },
    {
     "name": "stdout",
     "output_type": "stream",
     "text": [
      "Tam giác thường\n"
     ]
    }
   ],
   "source": [
    "#W3A11\n",
    "a = int(input(\"Nhập cạnh a: \"))\n",
    "b = int(input(\"Nhập cạnh b: \"))\n",
    "c = int(input(\"Nhập cạnh c: \"))\n",
    "if a + b > c and a + c > b and b + c > a:\n",
    "    if a == b == c:\n",
    "        print(\"Tam giác đều\")\n",
    "    elif a == b or a == c or b == c:\n",
    "        print(\"Tam giác cân\")\n",
    "    else:\n",
    "        print(\"Tam giác thường\")\n",
    "else:\n",
    "    print(\"Không phải tam giác\")"
   ]
  },
  {
   "cell_type": "code",
   "execution_count": 21,
   "id": "3f3e10a8-f67a-4857-a37f-9f7b52f68cd4",
   "metadata": {},
   "outputs": [
    {
     "name": "stdin",
     "output_type": "stream",
     "text": [
      "Nhập năm:  2025\n"
     ]
    },
    {
     "name": "stdout",
     "output_type": "stream",
     "text": [
      "No\n"
     ]
    }
   ],
   "source": [
    "#W3A12\n",
    "năm = int(input(\"Nhập năm: \"))\n",
    "if (năm % 4 == 0 and năm % 100 != 0) or (năm % 400 == 0):\n",
    "    print(\"Yes\")\n",
    "else:\n",
    "    print(\"No\")"
   ]
  },
  {
   "cell_type": "code",
   "execution_count": 22,
   "id": "2967d5c9-115e-4b5c-a71a-acd92ebec5ad",
   "metadata": {},
   "outputs": [
    {
     "name": "stdin",
     "output_type": "stream",
     "text": [
      "Nhập a:  2 \n",
      "Nhập b:  -5\n"
     ]
    },
    {
     "name": "stdout",
     "output_type": "stream",
     "text": [
      "Nghiệm của phương trình là: 2.5\n"
     ]
    }
   ],
   "source": [
    "#W3A14\n",
    "a = float(input(\"Nhập a: \"))\n",
    "b = float(input(\"Nhập b: \"))\n",
    "if a == 0:\n",
    "    if b == 0:\n",
    "        print(\"Vô số nghiệm\")\n",
    "    else:\n",
    "        print(\"Vô nghiệm\")\n",
    "else:\n",
    "    x = -b / a\n",
    "    print(\"Nghiệm của phương trình là:\", round(x, 2))"
   ]
  },
  {
   "cell_type": "code",
   "execution_count": 23,
   "id": "cdf97d51-45b5-42c6-ac2d-e5c113b8aedf",
   "metadata": {},
   "outputs": [
    {
     "name": "stdin",
     "output_type": "stream",
     "text": [
      "Nhập điểm trung bình:  9\n"
     ]
    },
    {
     "name": "stdout",
     "output_type": "stream",
     "text": [
      "Giỏi\n"
     ]
    }
   ],
   "source": [
    "#W3A15\n",
    "diem_tb = float(input(\"Nhập điểm trung bình: \"))\n",
    "if diem_tb >= 8.0:\n",
    "    print(\"Giỏi\")\n",
    "elif diem_tb >= 6.5:\n",
    "    print(\"Khá\")\n",
    "elif diem_tb >= 5.0:\n",
    "    print(\"Trung bình\")\n",
    "else:\n",
    "    print(\"Yếu\")"
   ]
  },
  {
   "cell_type": "code",
   "execution_count": 24,
   "id": "d412aee9-8483-4cc9-91e3-91f6dcc2a1da",
   "metadata": {},
   "outputs": [
    {
     "name": "stdin",
     "output_type": "stream",
     "text": [
      "Nhập số thực:  55\n"
     ]
    },
    {
     "name": "stdout",
     "output_type": "stream",
     "text": [
      "55 55 55\n"
     ]
    }
   ],
   "source": [
    "#W3A16\n",
    "x = float(input(\"Nhập số thực: \"))\n",
    "if x >= 0:\n",
    "    tron_xuong = int(x)\n",
    "else:\n",
    "    tron_xuong = int(x) - (x != int(x))\n",
    "if x >= 0:\n",
    "    tron_len = int(x) + (x != int(x))\n",
    "else:\n",
    "    tron_len = int(x)\n",
    "phan_thap_phan = x - int(x)\n",
    "if x >= 0:\n",
    "    tron_gan_nhat = int(x) + (phan_thap_phan >= 0.5)\n",
    "else:\n",
    "    tron_gan_nhat = int(x) - (phan_thap_phan <= -0.5)\n",
    "print(tron_len, tron_xuong, tron_gan_nhat)"
   ]
  },
  {
   "cell_type": "code",
   "execution_count": 25,
   "id": "dd01f53e-375c-40a9-b337-fe40998e3992",
   "metadata": {},
   "outputs": [
    {
     "name": "stdin",
     "output_type": "stream",
     "text": [
      "Nhập a:  1\n",
      "Nhập b:  2\n",
      "Nhập c:  3\n",
      "Nhập d:  4\n"
     ]
    },
    {
     "name": "stdout",
     "output_type": "stream",
     "text": [
      "No\n"
     ]
    }
   ],
   "source": [
    "#W3A17\n",
    "a = int(input(\"Nhập a: \"))\n",
    "b = int(input(\"Nhập b: \"))\n",
    "c = int(input(\"Nhập c: \"))\n",
    "d = int(input(\"Nhập d: \"))\n",
    "if a != 0 and b % a == 0:\n",
    "    q = b // a\n",
    "    if b * q == c and c * q == d:\n",
    "        print(\"Yes\")\n",
    "    else:\n",
    "        print(\"No\")\n",
    "else:\n",
    "    print(\"No\")"
   ]
  },
  {
   "cell_type": "code",
   "execution_count": null,
   "id": "2b47d3ab-be4f-4dea-9550-f37992097293",
   "metadata": {},
   "outputs": [],
   "source": []
  }
 ],
 "metadata": {
  "kernelspec": {
   "display_name": "Python 3 (ipykernel)",
   "language": "python",
   "name": "python3"
  },
  "language_info": {
   "codemirror_mode": {
    "name": "ipython",
    "version": 3
   },
   "file_extension": ".py",
   "mimetype": "text/x-python",
   "name": "python",
   "nbconvert_exporter": "python",
   "pygments_lexer": "ipython3",
   "version": "3.13.5"
  }
 },
 "nbformat": 4,
 "nbformat_minor": 5
}
